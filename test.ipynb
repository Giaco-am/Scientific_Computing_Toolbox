{
 "cells": [
  {
   "cell_type": "code",
   "execution_count": null,
   "metadata": {},
   "outputs": [],
   "source": [
    "import sys\n",
    "import os\n",
    "from pathlib import Path\n",
    "from scientific_toolbox.ode import ODEAnalysis, load_tests_from_csv\n",
    "\n",
    "ROOT_DIR = Path().absolute()\n",
    "data_dir = os.path.join(ROOT_DIR, 'data')\n",
    "output_dir = os.path.join(ROOT_DIR, 'output/ODE_Module/Analysis')\n",
    "\n",
    "data_path = os.path.join(data_dir, 'ode_tests.csv')\n",
    "    \n",
    "data = load_tests_from_csv(data_path)\n",
    "\n",
    "analyzer = ODEAnalysis()\n",
    "\n",
    "# plot solutions from different solvers\n",
    "analyzer.compare_solvers(data, save_path = os.path.join(output_dir, \"\"), show = False)"
   ]
  }
 ],
 "metadata": {
  "kernelspec": {
   "display_name": "myenv",
   "language": "python",
   "name": "python3"
  },
  "language_info": {
   "codemirror_mode": {
    "name": "ipython",
    "version": 3
   },
   "file_extension": ".py",
   "mimetype": "text/x-python",
   "name": "python",
   "nbconvert_exporter": "python",
   "pygments_lexer": "ipython3",
   "version": "3.13.1"
  }
 },
 "nbformat": 4,
 "nbformat_minor": 2
}
