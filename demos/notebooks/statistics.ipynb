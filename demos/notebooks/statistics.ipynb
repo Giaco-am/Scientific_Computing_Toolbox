{
 "cells": [
  {
   "cell_type": "code",
   "execution_count": 1,
   "metadata": {},
   "outputs": [],
   "source": [
    "# Compilation\n",
    "# uncomment the line above if you want to run this script directly\n",
    "# !make\n",
    "\n",
    "# uncomment the following lines to use the virtual environment\n",
    "# !make venv\n",
    "# !source venv/bin/activate"
   ]
  },
  {
   "cell_type": "code",
   "execution_count": 2,
   "metadata": {},
   "outputs": [],
   "source": [
    "import os \n",
    "import numpy \n",
    "import matplotlib.pyplot as plt\n",
    "\n",
    "import scientific_toolbox.stats as stats\n",
    "from scientific_toolbox.stats import StatisticsAnalyzer, Dataset"
   ]
  },
  {
   "cell_type": "code",
   "execution_count": null,
   "metadata": {},
   "outputs": [],
   "source": [
    "# Instantiate the dataset\n",
    "dataset = stats.Dataset()\n",
    "\n",
    "\n",
    "sample_data = [\n",
    "    {\"Height\": 170.2, \"Weight\": 65.4, \"Age\": 25, \"Gender\": \"Male\"},\n",
    "    {\"Height\": 165.5, \"Weight\": 54.1, \"Age\": 31, \"Gender\": \"Female\"},\n",
    "    {\"Height\": 180.3, \"Weight\": 72.0, \"Age\": 28, \"Gender\": \"Male\"},\n",
    "    {\"Height\": 155.0, \"Weight\": 48.5, \"Age\": 22, \"Gender\": \"Female\"},\n",
    "    {\"Height\": 175.6, \"Weight\": 70.2, \"Age\": 30, \"Gender\": \"Male\"},\n",
    "    {\"Height\": 168.4, \"Weight\": 62.0, \"Age\": 29, \"Gender\": \"Female\"},\n",
    "    {\"Height\": 183.2, \"Weight\": 85.3, \"Age\": 40, \"Gender\": \"Male\"},\n",
    "]\n",
    "\n",
    "# populate the dataset\n",
    "for row in sample_data:\n",
    "    dataset.addRow(row)\n",
    "\n",
    "print(\"Dataset created and rows added.\")\n",
    "\n",
    "\n"
   ]
  },
  {
   "cell_type": "code",
   "execution_count": null,
   "metadata": {},
   "outputs": [],
   "source": [
    "# Retrieve column names and number of rows\n",
    "column_names = dataset.getColumnNames()\n",
    "print(\"Column Names:\", column_names)\n",
    "print(\"Number of rows in dataset:\", dataset.size())\n",
    "\n",
    "print(\"\\nColumn type validation:\")\n",
    "for col in column_names:\n",
    "    print(f\"{col}: {'numeric' if dataset.isNumeric(col) else 'non-numeric'}\")\n",
    "\n"
   ]
  },
  {
   "cell_type": "code",
   "execution_count": null,
   "metadata": {},
   "outputs": [],
   "source": [
    "# Create a StatisticalAnalyzer object\n",
    "analyzer = stats.StatisticalAnalyzer(dataset)\n",
    "print(\"StatisticalAnalyzer created.\")\n"
   ]
  },
  {
   "cell_type": "code",
   "execution_count": null,
   "metadata": {},
   "outputs": [],
   "source": [
    "numeric_columns = [col for col in column_names if dataset.isNumeric(col)]\n",
    "for col in numeric_columns:\n",
    "\n",
    "    mean_val = analyzer.mean(col)\n",
    "    median_val = analyzer.median(col)\n",
    "    var_val = analyzer.variance(col)\n",
    "    std_val = analyzer.standardDeviation(col)\n",
    "    \n",
    "    print(f\"\\n--- {col} ---\")\n",
    "    print(f\"Mean: {mean_val:.3f}\")\n",
    "    print(f\"Median: {median_val:.3f}\")\n",
    "    print(f\"Variance: {var_val:.3f}\")\n",
    "    print(f\"Std Dev: {std_val:.3f}\")\n"
   ]
  },
  {
   "cell_type": "code",
   "execution_count": 7,
   "metadata": {},
   "outputs": [],
   "source": [
    "# You can also get the mean of a column by passing the column_name directly\n",
    "mean_age = analyzer.mean(column_names[1])"
   ]
  },
  {
   "cell_type": "code",
   "execution_count": null,
   "metadata": {},
   "outputs": [],
   "source": [
    "# frquency count for column with strings\n",
    "gender_frequency = analyzer.frequencyCountStr(\"Gender\")\n",
    "print(\"Frequency Count for Gender:\")\n",
    "print(gender_frequency)\n"
   ]
  },
  {
   "cell_type": "code",
   "execution_count": null,
   "metadata": {},
   "outputs": [],
   "source": [
    "# frquency count for column with numbers\n",
    "age_frequency = analyzer.frequencyCount(\"Age\")\n",
    "print(\"Frequency Count for Age:\")\n",
    "print(age_frequency)\n"
   ]
  },
  {
   "cell_type": "code",
   "execution_count": null,
   "metadata": {},
   "outputs": [],
   "source": [
    "corr_matrix = analyzer.correlationMatrix(numeric_columns)\n",
    "print(\"Correlation Matrix (Height, Weight, Age):\")\n",
    "print(corr_matrix)"
   ]
  },
  {
   "cell_type": "code",
   "execution_count": null,
   "metadata": {},
   "outputs": [],
   "source": [
    "strong_corrs = analyzer.reportStrongCorrelations(numeric_columns, 0.7)\n",
    "print(\"Strong Correlations (|corr| > 0.7):\")\n",
    "print(strong_corrs)\n"
   ]
  }
 ],
 "metadata": {
  "kernelspec": {
   "display_name": "Python 3",
   "language": "python",
   "name": "python3"
  },
  "language_info": {
   "codemirror_mode": {
    "name": "ipython",
    "version": 3
   },
   "file_extension": ".py",
   "mimetype": "text/x-python",
   "name": "python",
   "nbconvert_exporter": "python",
   "pygments_lexer": "ipython3",
   "version": "3.10.12"
  }
 },
 "nbformat": 4,
 "nbformat_minor": 2
}
